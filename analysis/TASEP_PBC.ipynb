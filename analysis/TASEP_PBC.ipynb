{
 "cells": [
  {
   "cell_type": "markdown",
   "id": "55e422a3",
   "metadata": {},
   "source": [
    "## TASEP\n",
    "\n",
    "# Model\n",
    "\n",
    "- $N$ normal particle (1) on a ring of size $L$. Empty site(0).  \n",
    "\n",
    "$$\n",
    "10 \\to 01 \\,\\,\\mbox{with rate}\\,\\, 1\n",
    "$$\n",
    "\n",
    "# Simulation Program\n",
    "\n",
    "Program: TASEP.c\n",
    "\n",
    "- How to compile. \n",
    "\n",
    "- $random.h$ is neccesary. \n",
    "\n",
    "gcc -O3 TASEP.c -lm\n",
    "\n",
    "- How to run. \n",
    "\n",
    "./a.out 1000000\n",
    "\n",
    "$N\\in \\{2,5,10,15,\\cdots,95\\},L=100$\n",
    "\n",
    "# DATA\n",
    "\n",
    "Three Files.\n",
    "\n",
    "#### rho_vs_J_v0_mean_v1_mean_L100.csv\n",
    "\n",
    "- $\\rho=N/L$ \n",
    "\n",
    "- $J$ is the average number of moved particle per site \n",
    "\n",
    "$$\n",
    "J=\\rho(1-\\rho)\n",
    "$$\n",
    "\n",
    "- $v_0$  and $v_1$ is the velocity of particle 0 and particle 1.\n",
    "\n",
    "$$\n",
    "E[v_0]=E[v_1]=(1-\\rho)\n",
    "$$\n",
    "\n",
    "#### t_N_vs_x0_L100.csv and t_N_vs_x1_L100.csv\n",
    "\n",
    "- Time series data of the movement of particle 0 and 1 as function of $t$(row) and $N$(column)."
   ]
  },
  {
   "cell_type": "markdown",
   "id": "2830d5da",
   "metadata": {},
   "source": [
    "# DATA Analysis"
   ]
  },
  {
   "cell_type": "code",
   "execution_count": 49,
   "id": "cef537ee",
   "metadata": {},
   "outputs": [],
   "source": [
    "import pandas as pd\n",
    "import numpy as np\n",
    "import datatable as dt\n",
    "import matplotlib.pyplot as plt\n",
    "import array\n",
    "import math"
   ]
  },
  {
   "cell_type": "code",
   "execution_count": 50,
   "id": "67d25319",
   "metadata": {},
   "outputs": [],
   "source": [
    "rho_vs_J_v = pd.read_csv(\"rho_vs_J_v0_mean_v1_mean_L100.csv\")"
   ]
  },
  {
   "cell_type": "code",
   "execution_count": 51,
   "id": "f8cf16db",
   "metadata": {},
   "outputs": [
    {
     "data": {
      "text/html": [
       "<div>\n",
       "<style scoped>\n",
       "    .dataframe tbody tr th:only-of-type {\n",
       "        vertical-align: middle;\n",
       "    }\n",
       "\n",
       "    .dataframe tbody tr th {\n",
       "        vertical-align: top;\n",
       "    }\n",
       "\n",
       "    .dataframe thead th {\n",
       "        text-align: right;\n",
       "    }\n",
       "</style>\n",
       "<table border=\"1\" class=\"dataframe\">\n",
       "  <thead>\n",
       "    <tr style=\"text-align: right;\">\n",
       "      <th></th>\n",
       "      <th>rho</th>\n",
       "      <th>J</th>\n",
       "      <th>v0_mean</th>\n",
       "      <th>v1_mean</th>\n",
       "    </tr>\n",
       "  </thead>\n",
       "  <tbody>\n",
       "    <tr>\n",
       "      <th>0</th>\n",
       "      <td>0.02</td>\n",
       "      <td>0.019794</td>\n",
       "      <td>0.989671</td>\n",
       "      <td>0.989748</td>\n",
       "    </tr>\n",
       "    <tr>\n",
       "      <th>1</th>\n",
       "      <td>0.05</td>\n",
       "      <td>0.047968</td>\n",
       "      <td>0.959385</td>\n",
       "      <td>0.959354</td>\n",
       "    </tr>\n",
       "    <tr>\n",
       "      <th>2</th>\n",
       "      <td>0.10</td>\n",
       "      <td>0.090866</td>\n",
       "      <td>0.908670</td>\n",
       "      <td>0.908660</td>\n",
       "    </tr>\n",
       "    <tr>\n",
       "      <th>3</th>\n",
       "      <td>0.15</td>\n",
       "      <td>0.128802</td>\n",
       "      <td>0.858692</td>\n",
       "      <td>0.858695</td>\n",
       "    </tr>\n",
       "    <tr>\n",
       "      <th>4</th>\n",
       "      <td>0.20</td>\n",
       "      <td>0.161775</td>\n",
       "      <td>0.808862</td>\n",
       "      <td>0.808862</td>\n",
       "    </tr>\n",
       "  </tbody>\n",
       "</table>\n",
       "</div>"
      ],
      "text/plain": [
       "    rho         J   v0_mean  v1_mean \n",
       "0  0.02  0.019794  0.989671  0.989748\n",
       "1  0.05  0.047968  0.959385  0.959354\n",
       "2  0.10  0.090866  0.908670  0.908660\n",
       "3  0.15  0.128802  0.858692  0.858695\n",
       "4  0.20  0.161775  0.808862  0.808862"
      ]
     },
     "execution_count": 51,
     "metadata": {},
     "output_type": "execute_result"
    }
   ],
   "source": [
    "rho_vs_J_v.head(5)"
   ]
  },
  {
   "cell_type": "code",
   "execution_count": 52,
   "id": "59aeab0a",
   "metadata": {},
   "outputs": [
    {
     "data": {
      "text/plain": [
       "0     0.989748\n",
       "1     0.959354\n",
       "2     0.908660\n",
       "3     0.858695\n",
       "4     0.808862\n",
       "5     0.757797\n",
       "6     0.706717\n",
       "7     0.656560\n",
       "8     0.606111\n",
       "9     0.555856\n",
       "10    0.504932\n",
       "11    0.454727\n",
       "12    0.404119\n",
       "13    0.353433\n",
       "14    0.303109\n",
       "15    0.252559\n",
       "16    0.202007\n",
       "17    0.151418\n",
       "18    0.101025\n",
       "19    0.050480\n",
       "Name: v1_mean , dtype: float64"
      ]
     },
     "execution_count": 52,
     "metadata": {},
     "output_type": "execute_result"
    }
   ],
   "source": [
    "rho_vs_J_v['v1_mean ']"
   ]
  },
  {
   "cell_type": "code",
   "execution_count": 53,
   "id": "1bc384d0",
   "metadata": {},
   "outputs": [
    {
     "data": {
      "image/png": "[encoded data removed]",
      "text/plain": [
       "<Figure size 648x432 with 1 Axes>"
      ]
     },
     "metadata": {
      "needs_background": "light"
     },
     "output_type": "display_data"
    }
   ],
   "source": [
    "plt.figure(figsize=(9,6))\n",
    "plt.plot(rho_vs_J_v['rho'], rho_vs_J_v['J'], linestyle='None', marker='o')\n",
    "x=np.linspace(0,1,30)\n",
    "plt.plot(x, x*(1-x))\n",
    "plt.xlim(0,)\n",
    "plt.ylim(0,)\n",
    "plt.xlabel(r'$\\rho$')\n",
    "plt.ylabel('J')\n",
    "\n",
    "plt.show()"
   ]
  },
  {
   "cell_type": "code",
   "execution_count": 54,
   "id": "d6c8f225",
   "metadata": {},
   "outputs": [
    {
     "data": {
      "image/png": "[encoded data removed]",
      "text/plain": [
       "<Figure size 900x600 with 1 Axes>"
      ]
     },
     "metadata": {
      "needs_background": "light"
     },
     "output_type": "display_data"
    }
   ],
   "source": [
    "plt.figure(dpi=150)\n",
    "plt.plot(rho_vs_J_v['rho'], rho_vs_J_v['v0_mean'], linestyle='None', marker='o')\n",
    "plt.plot(rho_vs_J_v['rho'], rho_vs_J_v['v1_mean '], linestyle='None', marker='x')\n",
    "x=np.linspace(0,1,30)\n",
    "plt.plot(x, 1-x, color='k', alpha=0.5)\n",
    "plt.xlim(0,)\n",
    "plt.ylim(0,)\n",
    "plt.xlabel(r'$\\rho$')\n",
    "plt.ylabel('v')\n",
    "\n",
    "plt.show()"
   ]
  },
  {
   "cell_type": "markdown",
   "id": "5eb41675",
   "metadata": {},
   "source": [
    "# Velocity Distribution"
   ]
  },
  {
   "cell_type": "code",
   "execution_count": 55,
   "id": "055c0d7c",
   "metadata": {},
   "outputs": [],
   "source": [
    "d1 = dt.fread('t_N_vs_x0_L100.csv')\n",
    "d2 = dt.fread('t_N_vs_x1_L100.csv')\n",
    "d1 = d1.to_pandas()\n",
    "d2 = d2.to_pandas()"
   ]
  },
  {
   "cell_type": "code",
   "execution_count": 56,
   "id": "0fa31256",
   "metadata": {},
   "outputs": [],
   "source": [
    "pd.set_option('display.max_columns', None)"
   ]
  },
  {
   "cell_type": "code",
   "execution_count": 57,
   "id": "d484dc0f",
   "metadata": {},
   "outputs": [
    {
     "data": {
      "text/html": [
       "<div>\n",
       "<style scoped>\n",
       "    .dataframe tbody tr th:only-of-type {\n",
       "        vertical-align: middle;\n",
       "    }\n",
       "\n",
       "    .dataframe tbody tr th {\n",
       "        vertical-align: top;\n",
       "    }\n",
       "\n",
       "    .dataframe thead th {\n",
       "        text-align: right;\n",
       "    }\n",
       "</style>\n",
       "<table border=\"1\" class=\"dataframe\">\n",
       "  <thead>\n",
       "    <tr style=\"text-align: right;\">\n",
       "      <th></th>\n",
       "      <th>t</th>\n",
       "      <th>2</th>\n",
       "      <th>5</th>\n",
       "      <th>10</th>\n",
       "      <th>15</th>\n",
       "      <th>20</th>\n",
       "      <th>25</th>\n",
       "      <th>30</th>\n",
       "      <th>35</th>\n",
       "      <th>40</th>\n",
       "      <th>45</th>\n",
       "      <th>50</th>\n",
       "      <th>55</th>\n",
       "      <th>60</th>\n",
       "      <th>65</th>\n",
       "      <th>70</th>\n",
       "      <th>75</th>\n",
       "      <th>80</th>\n",
       "      <th>85</th>\n",
       "      <th>90</th>\n",
       "      <th>95</th>\n",
       "    </tr>\n",
       "  </thead>\n",
       "  <tbody>\n",
       "    <tr>\n",
       "      <th>0</th>\n",
       "      <td>0</td>\n",
       "      <td>0</td>\n",
       "      <td>0</td>\n",
       "      <td>0</td>\n",
       "      <td>0</td>\n",
       "      <td>0</td>\n",
       "      <td>0</td>\n",
       "      <td>0</td>\n",
       "      <td>0</td>\n",
       "      <td>0</td>\n",
       "      <td>0</td>\n",
       "      <td>0</td>\n",
       "      <td>0</td>\n",
       "      <td>0</td>\n",
       "      <td>0</td>\n",
       "      <td>0</td>\n",
       "      <td>0</td>\n",
       "      <td>0</td>\n",
       "      <td>0</td>\n",
       "      <td>0</td>\n",
       "      <td>0</td>\n",
       "    </tr>\n",
       "    <tr>\n",
       "      <th>1</th>\n",
       "      <td>1</td>\n",
       "      <td>2</td>\n",
       "      <td>0</td>\n",
       "      <td>2</td>\n",
       "      <td>2</td>\n",
       "      <td>1</td>\n",
       "      <td>0</td>\n",
       "      <td>0</td>\n",
       "      <td>0</td>\n",
       "      <td>0</td>\n",
       "      <td>0</td>\n",
       "      <td>1</td>\n",
       "      <td>1</td>\n",
       "      <td>1</td>\n",
       "      <td>0</td>\n",
       "      <td>0</td>\n",
       "      <td>0</td>\n",
       "      <td>0</td>\n",
       "      <td>1</td>\n",
       "      <td>0</td>\n",
       "      <td>0</td>\n",
       "    </tr>\n",
       "    <tr>\n",
       "      <th>2</th>\n",
       "      <td>2</td>\n",
       "      <td>2</td>\n",
       "      <td>1</td>\n",
       "      <td>2</td>\n",
       "      <td>2</td>\n",
       "      <td>1</td>\n",
       "      <td>1</td>\n",
       "      <td>0</td>\n",
       "      <td>0</td>\n",
       "      <td>0</td>\n",
       "      <td>0</td>\n",
       "      <td>1</td>\n",
       "      <td>1</td>\n",
       "      <td>1</td>\n",
       "      <td>0</td>\n",
       "      <td>0</td>\n",
       "      <td>0</td>\n",
       "      <td>0</td>\n",
       "      <td>1</td>\n",
       "      <td>0</td>\n",
       "      <td>0</td>\n",
       "    </tr>\n",
       "    <tr>\n",
       "      <th>3</th>\n",
       "      <td>3</td>\n",
       "      <td>3</td>\n",
       "      <td>2</td>\n",
       "      <td>3</td>\n",
       "      <td>2</td>\n",
       "      <td>1</td>\n",
       "      <td>1</td>\n",
       "      <td>1</td>\n",
       "      <td>1</td>\n",
       "      <td>0</td>\n",
       "      <td>0</td>\n",
       "      <td>1</td>\n",
       "      <td>1</td>\n",
       "      <td>3</td>\n",
       "      <td>1</td>\n",
       "      <td>0</td>\n",
       "      <td>1</td>\n",
       "      <td>0</td>\n",
       "      <td>1</td>\n",
       "      <td>0</td>\n",
       "      <td>0</td>\n",
       "    </tr>\n",
       "    <tr>\n",
       "      <th>4</th>\n",
       "      <td>4</td>\n",
       "      <td>4</td>\n",
       "      <td>4</td>\n",
       "      <td>3</td>\n",
       "      <td>2</td>\n",
       "      <td>1</td>\n",
       "      <td>1</td>\n",
       "      <td>5</td>\n",
       "      <td>1</td>\n",
       "      <td>0</td>\n",
       "      <td>0</td>\n",
       "      <td>1</td>\n",
       "      <td>1</td>\n",
       "      <td>3</td>\n",
       "      <td>1</td>\n",
       "      <td>0</td>\n",
       "      <td>1</td>\n",
       "      <td>0</td>\n",
       "      <td>1</td>\n",
       "      <td>0</td>\n",
       "      <td>0</td>\n",
       "    </tr>\n",
       "    <tr>\n",
       "      <th>5</th>\n",
       "      <td>5</td>\n",
       "      <td>5</td>\n",
       "      <td>5</td>\n",
       "      <td>5</td>\n",
       "      <td>2</td>\n",
       "      <td>1</td>\n",
       "      <td>2</td>\n",
       "      <td>5</td>\n",
       "      <td>1</td>\n",
       "      <td>0</td>\n",
       "      <td>0</td>\n",
       "      <td>1</td>\n",
       "      <td>1</td>\n",
       "      <td>3</td>\n",
       "      <td>1</td>\n",
       "      <td>1</td>\n",
       "      <td>1</td>\n",
       "      <td>0</td>\n",
       "      <td>1</td>\n",
       "      <td>0</td>\n",
       "      <td>0</td>\n",
       "    </tr>\n",
       "    <tr>\n",
       "      <th>6</th>\n",
       "      <td>6</td>\n",
       "      <td>6</td>\n",
       "      <td>5</td>\n",
       "      <td>7</td>\n",
       "      <td>3</td>\n",
       "      <td>1</td>\n",
       "      <td>4</td>\n",
       "      <td>6</td>\n",
       "      <td>3</td>\n",
       "      <td>1</td>\n",
       "      <td>1</td>\n",
       "      <td>1</td>\n",
       "      <td>1</td>\n",
       "      <td>3</td>\n",
       "      <td>2</td>\n",
       "      <td>1</td>\n",
       "      <td>1</td>\n",
       "      <td>0</td>\n",
       "      <td>1</td>\n",
       "      <td>0</td>\n",
       "      <td>0</td>\n",
       "    </tr>\n",
       "    <tr>\n",
       "      <th>7</th>\n",
       "      <td>7</td>\n",
       "      <td>8</td>\n",
       "      <td>7</td>\n",
       "      <td>8</td>\n",
       "      <td>4</td>\n",
       "      <td>2</td>\n",
       "      <td>5</td>\n",
       "      <td>6</td>\n",
       "      <td>4</td>\n",
       "      <td>1</td>\n",
       "      <td>2</td>\n",
       "      <td>1</td>\n",
       "      <td>1</td>\n",
       "      <td>3</td>\n",
       "      <td>2</td>\n",
       "      <td>1</td>\n",
       "      <td>3</td>\n",
       "      <td>0</td>\n",
       "      <td>3</td>\n",
       "      <td>0</td>\n",
       "      <td>0</td>\n",
       "    </tr>\n",
       "    <tr>\n",
       "      <th>8</th>\n",
       "      <td>8</td>\n",
       "      <td>9</td>\n",
       "      <td>9</td>\n",
       "      <td>9</td>\n",
       "      <td>5</td>\n",
       "      <td>3</td>\n",
       "      <td>6</td>\n",
       "      <td>6</td>\n",
       "      <td>4</td>\n",
       "      <td>1</td>\n",
       "      <td>2</td>\n",
       "      <td>1</td>\n",
       "      <td>1</td>\n",
       "      <td>3</td>\n",
       "      <td>2</td>\n",
       "      <td>1</td>\n",
       "      <td>3</td>\n",
       "      <td>0</td>\n",
       "      <td>3</td>\n",
       "      <td>0</td>\n",
       "      <td>0</td>\n",
       "    </tr>\n",
       "    <tr>\n",
       "      <th>9</th>\n",
       "      <td>9</td>\n",
       "      <td>11</td>\n",
       "      <td>9</td>\n",
       "      <td>10</td>\n",
       "      <td>6</td>\n",
       "      <td>3</td>\n",
       "      <td>7</td>\n",
       "      <td>9</td>\n",
       "      <td>4</td>\n",
       "      <td>1</td>\n",
       "      <td>3</td>\n",
       "      <td>2</td>\n",
       "      <td>1</td>\n",
       "      <td>3</td>\n",
       "      <td>3</td>\n",
       "      <td>1</td>\n",
       "      <td>3</td>\n",
       "      <td>0</td>\n",
       "      <td>3</td>\n",
       "      <td>0</td>\n",
       "      <td>0</td>\n",
       "    </tr>\n",
       "  </tbody>\n",
       "</table>\n",
       "</div>"
      ],
      "text/plain": [
       "   t   2  5  10  15  20  25  30  35  40  45  50  55  60  65  70  75  80  85  \\\n",
       "0  0   0  0   0   0   0   0   0   0   0   0   0   0   0   0   0   0   0   0   \n",
       "1  1   2  0   2   2   1   0   0   0   0   0   1   1   1   0   0   0   0   1   \n",
       "2  2   2  1   2   2   1   1   0   0   0   0   1   1   1   0   0   0   0   1   \n",
       "3  3   3  2   3   2   1   1   1   1   0   0   1   1   3   1   0   1   0   1   \n",
       "4  4   4  4   3   2   1   1   5   1   0   0   1   1   3   1   0   1   0   1   \n",
       "5  5   5  5   5   2   1   2   5   1   0   0   1   1   3   1   1   1   0   1   \n",
       "6  6   6  5   7   3   1   4   6   3   1   1   1   1   3   2   1   1   0   1   \n",
       "7  7   8  7   8   4   2   5   6   4   1   2   1   1   3   2   1   3   0   3   \n",
       "8  8   9  9   9   5   3   6   6   4   1   2   1   1   3   2   1   3   0   3   \n",
       "9  9  11  9  10   6   3   7   9   4   1   3   2   1   3   3   1   3   0   3   \n",
       "\n",
       "   90  95  \n",
       "0   0   0  \n",
       "1   0   0  \n",
       "2   0   0  \n",
       "3   0   0  \n",
       "4   0   0  \n",
       "5   0   0  \n",
       "6   0   0  \n",
       "7   0   0  \n",
       "8   0   0  \n",
       "9   0   0  "
      ]
     },
     "execution_count": 57,
     "metadata": {},
     "output_type": "execute_result"
    }
   ],
   "source": [
    "d1.head(10)"
   ]
  },
  {
   "cell_type": "code",
   "execution_count": 58,
   "id": "69d6a983",
   "metadata": {},
   "outputs": [
    {
     "data": {
      "text/html": [
       "<div>\n",
       "<style scoped>\n",
       "    .dataframe tbody tr th:only-of-type {\n",
       "        vertical-align: middle;\n",
       "    }\n",
       "\n",
       "    .dataframe tbody tr th {\n",
       "        vertical-align: top;\n",
       "    }\n",
       "\n",
       "    .dataframe thead th {\n",
       "        text-align: right;\n",
       "    }\n",
       "</style>\n",
       "<table border=\"1\" class=\"dataframe\">\n",
       "  <thead>\n",
       "    <tr style=\"text-align: right;\">\n",
       "      <th></th>\n",
       "      <th>t</th>\n",
       "      <th>2</th>\n",
       "      <th>5</th>\n",
       "      <th>10</th>\n",
       "      <th>15</th>\n",
       "      <th>20</th>\n",
       "      <th>25</th>\n",
       "      <th>30</th>\n",
       "      <th>35</th>\n",
       "      <th>40</th>\n",
       "      <th>45</th>\n",
       "      <th>50</th>\n",
       "      <th>55</th>\n",
       "      <th>60</th>\n",
       "      <th>65</th>\n",
       "      <th>70</th>\n",
       "      <th>75</th>\n",
       "      <th>80</th>\n",
       "      <th>85</th>\n",
       "      <th>90</th>\n",
       "      <th>95</th>\n",
       "    </tr>\n",
       "  </thead>\n",
       "  <tbody>\n",
       "    <tr>\n",
       "      <th>0</th>\n",
       "      <td>0</td>\n",
       "      <td>19</td>\n",
       "      <td>40</td>\n",
       "      <td>14</td>\n",
       "      <td>4</td>\n",
       "      <td>2</td>\n",
       "      <td>5</td>\n",
       "      <td>4</td>\n",
       "      <td>2</td>\n",
       "      <td>1</td>\n",
       "      <td>1</td>\n",
       "      <td>2</td>\n",
       "      <td>2</td>\n",
       "      <td>3</td>\n",
       "      <td>1</td>\n",
       "      <td>1</td>\n",
       "      <td>1</td>\n",
       "      <td>1</td>\n",
       "      <td>2</td>\n",
       "      <td>1</td>\n",
       "      <td>1</td>\n",
       "    </tr>\n",
       "    <tr>\n",
       "      <th>1</th>\n",
       "      <td>1</td>\n",
       "      <td>19</td>\n",
       "      <td>44</td>\n",
       "      <td>14</td>\n",
       "      <td>8</td>\n",
       "      <td>2</td>\n",
       "      <td>5</td>\n",
       "      <td>4</td>\n",
       "      <td>5</td>\n",
       "      <td>1</td>\n",
       "      <td>1</td>\n",
       "      <td>2</td>\n",
       "      <td>2</td>\n",
       "      <td>4</td>\n",
       "      <td>1</td>\n",
       "      <td>1</td>\n",
       "      <td>1</td>\n",
       "      <td>1</td>\n",
       "      <td>2</td>\n",
       "      <td>1</td>\n",
       "      <td>1</td>\n",
       "    </tr>\n",
       "    <tr>\n",
       "      <th>2</th>\n",
       "      <td>2</td>\n",
       "      <td>21</td>\n",
       "      <td>45</td>\n",
       "      <td>16</td>\n",
       "      <td>8</td>\n",
       "      <td>4</td>\n",
       "      <td>5</td>\n",
       "      <td>5</td>\n",
       "      <td>7</td>\n",
       "      <td>1</td>\n",
       "      <td>1</td>\n",
       "      <td>3</td>\n",
       "      <td>2</td>\n",
       "      <td>4</td>\n",
       "      <td>1</td>\n",
       "      <td>2</td>\n",
       "      <td>1</td>\n",
       "      <td>1</td>\n",
       "      <td>2</td>\n",
       "      <td>1</td>\n",
       "      <td>2</td>\n",
       "    </tr>\n",
       "    <tr>\n",
       "      <th>3</th>\n",
       "      <td>3</td>\n",
       "      <td>22</td>\n",
       "      <td>46</td>\n",
       "      <td>18</td>\n",
       "      <td>8</td>\n",
       "      <td>6</td>\n",
       "      <td>8</td>\n",
       "      <td>6</td>\n",
       "      <td>7</td>\n",
       "      <td>1</td>\n",
       "      <td>1</td>\n",
       "      <td>3</td>\n",
       "      <td>2</td>\n",
       "      <td>4</td>\n",
       "      <td>2</td>\n",
       "      <td>3</td>\n",
       "      <td>2</td>\n",
       "      <td>1</td>\n",
       "      <td>2</td>\n",
       "      <td>1</td>\n",
       "      <td>2</td>\n",
       "    </tr>\n",
       "    <tr>\n",
       "      <th>4</th>\n",
       "      <td>4</td>\n",
       "      <td>23</td>\n",
       "      <td>46</td>\n",
       "      <td>19</td>\n",
       "      <td>9</td>\n",
       "      <td>6</td>\n",
       "      <td>8</td>\n",
       "      <td>6</td>\n",
       "      <td>7</td>\n",
       "      <td>1</td>\n",
       "      <td>1</td>\n",
       "      <td>3</td>\n",
       "      <td>2</td>\n",
       "      <td>4</td>\n",
       "      <td>2</td>\n",
       "      <td>3</td>\n",
       "      <td>2</td>\n",
       "      <td>1</td>\n",
       "      <td>2</td>\n",
       "      <td>1</td>\n",
       "      <td>2</td>\n",
       "    </tr>\n",
       "    <tr>\n",
       "      <th>5</th>\n",
       "      <td>5</td>\n",
       "      <td>24</td>\n",
       "      <td>47</td>\n",
       "      <td>19</td>\n",
       "      <td>9</td>\n",
       "      <td>8</td>\n",
       "      <td>8</td>\n",
       "      <td>6</td>\n",
       "      <td>8</td>\n",
       "      <td>1</td>\n",
       "      <td>2</td>\n",
       "      <td>3</td>\n",
       "      <td>2</td>\n",
       "      <td>4</td>\n",
       "      <td>3</td>\n",
       "      <td>4</td>\n",
       "      <td>2</td>\n",
       "      <td>1</td>\n",
       "      <td>2</td>\n",
       "      <td>1</td>\n",
       "      <td>2</td>\n",
       "    </tr>\n",
       "    <tr>\n",
       "      <th>6</th>\n",
       "      <td>6</td>\n",
       "      <td>25</td>\n",
       "      <td>48</td>\n",
       "      <td>22</td>\n",
       "      <td>9</td>\n",
       "      <td>10</td>\n",
       "      <td>8</td>\n",
       "      <td>8</td>\n",
       "      <td>11</td>\n",
       "      <td>2</td>\n",
       "      <td>3</td>\n",
       "      <td>3</td>\n",
       "      <td>2</td>\n",
       "      <td>4</td>\n",
       "      <td>3</td>\n",
       "      <td>4</td>\n",
       "      <td>4</td>\n",
       "      <td>1</td>\n",
       "      <td>2</td>\n",
       "      <td>1</td>\n",
       "      <td>2</td>\n",
       "    </tr>\n",
       "    <tr>\n",
       "      <th>7</th>\n",
       "      <td>7</td>\n",
       "      <td>25</td>\n",
       "      <td>50</td>\n",
       "      <td>23</td>\n",
       "      <td>11</td>\n",
       "      <td>10</td>\n",
       "      <td>8</td>\n",
       "      <td>8</td>\n",
       "      <td>11</td>\n",
       "      <td>2</td>\n",
       "      <td>3</td>\n",
       "      <td>4</td>\n",
       "      <td>2</td>\n",
       "      <td>4</td>\n",
       "      <td>3</td>\n",
       "      <td>4</td>\n",
       "      <td>4</td>\n",
       "      <td>1</td>\n",
       "      <td>4</td>\n",
       "      <td>1</td>\n",
       "      <td>2</td>\n",
       "    </tr>\n",
       "    <tr>\n",
       "      <th>8</th>\n",
       "      <td>8</td>\n",
       "      <td>26</td>\n",
       "      <td>51</td>\n",
       "      <td>24</td>\n",
       "      <td>12</td>\n",
       "      <td>11</td>\n",
       "      <td>10</td>\n",
       "      <td>10</td>\n",
       "      <td>11</td>\n",
       "      <td>2</td>\n",
       "      <td>3</td>\n",
       "      <td>5</td>\n",
       "      <td>2</td>\n",
       "      <td>4</td>\n",
       "      <td>3</td>\n",
       "      <td>4</td>\n",
       "      <td>4</td>\n",
       "      <td>1</td>\n",
       "      <td>4</td>\n",
       "      <td>1</td>\n",
       "      <td>2</td>\n",
       "    </tr>\n",
       "    <tr>\n",
       "      <th>9</th>\n",
       "      <td>9</td>\n",
       "      <td>26</td>\n",
       "      <td>53</td>\n",
       "      <td>25</td>\n",
       "      <td>12</td>\n",
       "      <td>12</td>\n",
       "      <td>11</td>\n",
       "      <td>10</td>\n",
       "      <td>11</td>\n",
       "      <td>3</td>\n",
       "      <td>4</td>\n",
       "      <td>6</td>\n",
       "      <td>3</td>\n",
       "      <td>4</td>\n",
       "      <td>4</td>\n",
       "      <td>4</td>\n",
       "      <td>4</td>\n",
       "      <td>1</td>\n",
       "      <td>4</td>\n",
       "      <td>1</td>\n",
       "      <td>2</td>\n",
       "    </tr>\n",
       "  </tbody>\n",
       "</table>\n",
       "</div>"
      ],
      "text/plain": [
       "   t   2   5  10  15  20  25  30  35  40  45  50  55  60  65  70  75  80  85  \\\n",
       "0  0  19  40  14   4   2   5   4   2   1   1   2   2   3   1   1   1   1   2   \n",
       "1  1  19  44  14   8   2   5   4   5   1   1   2   2   4   1   1   1   1   2   \n",
       "2  2  21  45  16   8   4   5   5   7   1   1   3   2   4   1   2   1   1   2   \n",
       "3  3  22  46  18   8   6   8   6   7   1   1   3   2   4   2   3   2   1   2   \n",
       "4  4  23  46  19   9   6   8   6   7   1   1   3   2   4   2   3   2   1   2   \n",
       "5  5  24  47  19   9   8   8   6   8   1   2   3   2   4   3   4   2   1   2   \n",
       "6  6  25  48  22   9  10   8   8  11   2   3   3   2   4   3   4   4   1   2   \n",
       "7  7  25  50  23  11  10   8   8  11   2   3   4   2   4   3   4   4   1   4   \n",
       "8  8  26  51  24  12  11  10  10  11   2   3   5   2   4   3   4   4   1   4   \n",
       "9  9  26  53  25  12  12  11  10  11   3   4   6   3   4   4   4   4   1   4   \n",
       "\n",
       "   90  95  \n",
       "0   1   1  \n",
       "1   1   1  \n",
       "2   1   2  \n",
       "3   1   2  \n",
       "4   1   2  \n",
       "5   1   2  \n",
       "6   1   2  \n",
       "7   1   2  \n",
       "8   1   2  \n",
       "9   1   2  "
      ]
     },
     "execution_count": 58,
     "metadata": {},
     "output_type": "execute_result"
    }
   ],
   "source": [
    "d2.head(10)"
   ]
  },
  {
   "cell_type": "code",
   "execution_count": 59,
   "id": "9688c80c",
   "metadata": {},
   "outputs": [
    {
     "data": {
      "text/html": [
       "<div>\n",
       "<style scoped>\n",
       "    .dataframe tbody tr th:only-of-type {\n",
       "        vertical-align: middle;\n",
       "    }\n",
       "\n",
       "    .dataframe tbody tr th {\n",
       "        vertical-align: top;\n",
       "    }\n",
       "\n",
       "    .dataframe thead th {\n",
       "        text-align: right;\n",
       "    }\n",
       "</style>\n",
       "<table border=\"1\" class=\"dataframe\">\n",
       "  <thead>\n",
       "    <tr style=\"text-align: right;\">\n",
       "      <th></th>\n",
       "      <th>2</th>\n",
       "      <th>5</th>\n",
       "      <th>10</th>\n",
       "      <th>15</th>\n",
       "      <th>20</th>\n",
       "      <th>25</th>\n",
       "      <th>30</th>\n",
       "      <th>35</th>\n",
       "      <th>40</th>\n",
       "      <th>45</th>\n",
       "      <th>50</th>\n",
       "      <th>55</th>\n",
       "      <th>60</th>\n",
       "      <th>65</th>\n",
       "      <th>70</th>\n",
       "      <th>75</th>\n",
       "      <th>80</th>\n",
       "      <th>85</th>\n",
       "      <th>90</th>\n",
       "      <th>95</th>\n",
       "    </tr>\n",
       "  </thead>\n",
       "  <tbody>\n",
       "    <tr>\n",
       "      <th>0</th>\n",
       "      <td>19</td>\n",
       "      <td>40</td>\n",
       "      <td>14</td>\n",
       "      <td>4</td>\n",
       "      <td>2</td>\n",
       "      <td>5</td>\n",
       "      <td>4</td>\n",
       "      <td>2</td>\n",
       "      <td>1</td>\n",
       "      <td>1</td>\n",
       "      <td>2</td>\n",
       "      <td>2</td>\n",
       "      <td>3</td>\n",
       "      <td>1</td>\n",
       "      <td>1</td>\n",
       "      <td>1</td>\n",
       "      <td>1</td>\n",
       "      <td>2</td>\n",
       "      <td>1</td>\n",
       "      <td>1</td>\n",
       "    </tr>\n",
       "    <tr>\n",
       "      <th>1</th>\n",
       "      <td>17</td>\n",
       "      <td>44</td>\n",
       "      <td>12</td>\n",
       "      <td>6</td>\n",
       "      <td>1</td>\n",
       "      <td>5</td>\n",
       "      <td>4</td>\n",
       "      <td>5</td>\n",
       "      <td>1</td>\n",
       "      <td>1</td>\n",
       "      <td>1</td>\n",
       "      <td>1</td>\n",
       "      <td>3</td>\n",
       "      <td>1</td>\n",
       "      <td>1</td>\n",
       "      <td>1</td>\n",
       "      <td>1</td>\n",
       "      <td>1</td>\n",
       "      <td>1</td>\n",
       "      <td>1</td>\n",
       "    </tr>\n",
       "    <tr>\n",
       "      <th>2</th>\n",
       "      <td>19</td>\n",
       "      <td>44</td>\n",
       "      <td>14</td>\n",
       "      <td>6</td>\n",
       "      <td>3</td>\n",
       "      <td>4</td>\n",
       "      <td>5</td>\n",
       "      <td>7</td>\n",
       "      <td>1</td>\n",
       "      <td>1</td>\n",
       "      <td>2</td>\n",
       "      <td>1</td>\n",
       "      <td>3</td>\n",
       "      <td>1</td>\n",
       "      <td>2</td>\n",
       "      <td>1</td>\n",
       "      <td>1</td>\n",
       "      <td>1</td>\n",
       "      <td>1</td>\n",
       "      <td>2</td>\n",
       "    </tr>\n",
       "    <tr>\n",
       "      <th>3</th>\n",
       "      <td>19</td>\n",
       "      <td>44</td>\n",
       "      <td>15</td>\n",
       "      <td>6</td>\n",
       "      <td>5</td>\n",
       "      <td>7</td>\n",
       "      <td>5</td>\n",
       "      <td>6</td>\n",
       "      <td>1</td>\n",
       "      <td>1</td>\n",
       "      <td>2</td>\n",
       "      <td>1</td>\n",
       "      <td>1</td>\n",
       "      <td>1</td>\n",
       "      <td>3</td>\n",
       "      <td>1</td>\n",
       "      <td>1</td>\n",
       "      <td>1</td>\n",
       "      <td>1</td>\n",
       "      <td>2</td>\n",
       "    </tr>\n",
       "    <tr>\n",
       "      <th>4</th>\n",
       "      <td>19</td>\n",
       "      <td>42</td>\n",
       "      <td>16</td>\n",
       "      <td>7</td>\n",
       "      <td>5</td>\n",
       "      <td>7</td>\n",
       "      <td>1</td>\n",
       "      <td>6</td>\n",
       "      <td>1</td>\n",
       "      <td>1</td>\n",
       "      <td>2</td>\n",
       "      <td>1</td>\n",
       "      <td>1</td>\n",
       "      <td>1</td>\n",
       "      <td>3</td>\n",
       "      <td>1</td>\n",
       "      <td>1</td>\n",
       "      <td>1</td>\n",
       "      <td>1</td>\n",
       "      <td>2</td>\n",
       "    </tr>\n",
       "    <tr>\n",
       "      <th>...</th>\n",
       "      <td>...</td>\n",
       "      <td>...</td>\n",
       "      <td>...</td>\n",
       "      <td>...</td>\n",
       "      <td>...</td>\n",
       "      <td>...</td>\n",
       "      <td>...</td>\n",
       "      <td>...</td>\n",
       "      <td>...</td>\n",
       "      <td>...</td>\n",
       "      <td>...</td>\n",
       "      <td>...</td>\n",
       "      <td>...</td>\n",
       "      <td>...</td>\n",
       "      <td>...</td>\n",
       "      <td>...</td>\n",
       "      <td>...</td>\n",
       "      <td>...</td>\n",
       "      <td>...</td>\n",
       "      <td>...</td>\n",
       "    </tr>\n",
       "    <tr>\n",
       "      <th>999996</th>\n",
       "      <td>94</td>\n",
       "      <td>11</td>\n",
       "      <td>7</td>\n",
       "      <td>7</td>\n",
       "      <td>1</td>\n",
       "      <td>1</td>\n",
       "      <td>3</td>\n",
       "      <td>2</td>\n",
       "      <td>5</td>\n",
       "      <td>2</td>\n",
       "      <td>3</td>\n",
       "      <td>1</td>\n",
       "      <td>2</td>\n",
       "      <td>1</td>\n",
       "      <td>3</td>\n",
       "      <td>1</td>\n",
       "      <td>2</td>\n",
       "      <td>1</td>\n",
       "      <td>1</td>\n",
       "      <td>2</td>\n",
       "    </tr>\n",
       "    <tr>\n",
       "      <th>999997</th>\n",
       "      <td>96</td>\n",
       "      <td>10</td>\n",
       "      <td>6</td>\n",
       "      <td>7</td>\n",
       "      <td>2</td>\n",
       "      <td>1</td>\n",
       "      <td>3</td>\n",
       "      <td>2</td>\n",
       "      <td>4</td>\n",
       "      <td>3</td>\n",
       "      <td>3</td>\n",
       "      <td>1</td>\n",
       "      <td>1</td>\n",
       "      <td>1</td>\n",
       "      <td>2</td>\n",
       "      <td>1</td>\n",
       "      <td>1</td>\n",
       "      <td>1</td>\n",
       "      <td>1</td>\n",
       "      <td>2</td>\n",
       "    </tr>\n",
       "    <tr>\n",
       "      <th>999998</th>\n",
       "      <td>96</td>\n",
       "      <td>11</td>\n",
       "      <td>6</td>\n",
       "      <td>7</td>\n",
       "      <td>2</td>\n",
       "      <td>1</td>\n",
       "      <td>3</td>\n",
       "      <td>3</td>\n",
       "      <td>3</td>\n",
       "      <td>1</td>\n",
       "      <td>4</td>\n",
       "      <td>1</td>\n",
       "      <td>2</td>\n",
       "      <td>1</td>\n",
       "      <td>3</td>\n",
       "      <td>1</td>\n",
       "      <td>1</td>\n",
       "      <td>1</td>\n",
       "      <td>1</td>\n",
       "      <td>2</td>\n",
       "    </tr>\n",
       "    <tr>\n",
       "      <th>999999</th>\n",
       "      <td>94</td>\n",
       "      <td>11</td>\n",
       "      <td>5</td>\n",
       "      <td>6</td>\n",
       "      <td>1</td>\n",
       "      <td>1</td>\n",
       "      <td>3</td>\n",
       "      <td>4</td>\n",
       "      <td>3</td>\n",
       "      <td>1</td>\n",
       "      <td>4</td>\n",
       "      <td>2</td>\n",
       "      <td>1</td>\n",
       "      <td>1</td>\n",
       "      <td>5</td>\n",
       "      <td>2</td>\n",
       "      <td>1</td>\n",
       "      <td>2</td>\n",
       "      <td>1</td>\n",
       "      <td>2</td>\n",
       "    </tr>\n",
       "    <tr>\n",
       "      <th>1000000</th>\n",
       "      <td>96</td>\n",
       "      <td>9</td>\n",
       "      <td>4</td>\n",
       "      <td>7</td>\n",
       "      <td>2</td>\n",
       "      <td>1</td>\n",
       "      <td>4</td>\n",
       "      <td>1</td>\n",
       "      <td>2</td>\n",
       "      <td>2</td>\n",
       "      <td>4</td>\n",
       "      <td>1</td>\n",
       "      <td>1</td>\n",
       "      <td>2</td>\n",
       "      <td>7</td>\n",
       "      <td>2</td>\n",
       "      <td>1</td>\n",
       "      <td>2</td>\n",
       "      <td>1</td>\n",
       "      <td>2</td>\n",
       "    </tr>\n",
       "  </tbody>\n",
       "</table>\n",
       "<p>1000001 rows × 20 columns</p>\n",
       "</div>"
      ],
      "text/plain": [
       "          2   5  10  15  20  25  30  35  40  45  50  55  60  65  70  75  80  \\\n",
       "0        19  40  14   4   2   5   4   2   1   1   2   2   3   1   1   1   1   \n",
       "1        17  44  12   6   1   5   4   5   1   1   1   1   3   1   1   1   1   \n",
       "2        19  44  14   6   3   4   5   7   1   1   2   1   3   1   2   1   1   \n",
       "3        19  44  15   6   5   7   5   6   1   1   2   1   1   1   3   1   1   \n",
       "4        19  42  16   7   5   7   1   6   1   1   2   1   1   1   3   1   1   \n",
       "...      ..  ..  ..  ..  ..  ..  ..  ..  ..  ..  ..  ..  ..  ..  ..  ..  ..   \n",
       "999996   94  11   7   7   1   1   3   2   5   2   3   1   2   1   3   1   2   \n",
       "999997   96  10   6   7   2   1   3   2   4   3   3   1   1   1   2   1   1   \n",
       "999998   96  11   6   7   2   1   3   3   3   1   4   1   2   1   3   1   1   \n",
       "999999   94  11   5   6   1   1   3   4   3   1   4   2   1   1   5   2   1   \n",
       "1000000  96   9   4   7   2   1   4   1   2   2   4   1   1   2   7   2   1   \n",
       "\n",
       "         85  90  95  \n",
       "0         2   1   1  \n",
       "1         1   1   1  \n",
       "2         1   1   2  \n",
       "3         1   1   2  \n",
       "4         1   1   2  \n",
       "...      ..  ..  ..  \n",
       "999996    1   1   2  \n",
       "999997    1   1   2  \n",
       "999998    1   1   2  \n",
       "999999    2   1   2  \n",
       "1000000   2   1   2  \n",
       "\n",
       "[1000001 rows x 20 columns]"
      ]
     },
     "execution_count": 59,
     "metadata": {},
     "output_type": "execute_result"
    }
   ],
   "source": [
    "df_distance = d2-d1\n",
    "df_distance = df_distance.drop('t', axis=1)\n",
    "# df_distance = pd.concat([df_t, df_distance], axis=1)\n",
    "df_distance"
   ]
  },
  {
   "cell_type": "code",
   "execution_count": 60,
   "id": "8d8445fa",
   "metadata": {},
   "outputs": [],
   "source": [
    "plt.figure()\n",
    "df_distance.plot(subplots=True, figsize=(100,100), layout=(20,1), sharex=True, sharey=True)\n",
    "plt.savefig('bus_distance.png')\n",
    "plt.close('all')\n",
    "# plt.show()"
   ]
  },
  {
   "cell_type": "code",
   "execution_count": 61,
   "id": "ba62a3f6",
   "metadata": {},
   "outputs": [],
   "source": [
    "def xt_dt2vt(xt, dt):\n",
    "    dx = xt.diff(dt)\n",
    "    vt = dx/dt\n",
    "\n",
    "    return(vt[dt:])"
   ]
  },
  {
   "cell_type": "code",
   "execution_count": 62,
   "id": "1dfeee80",
   "metadata": {},
   "outputs": [
    {
     "data": {
      "text/plain": [
       "10         1.2\n",
       "11         1.0\n",
       "12         1.2\n",
       "13         1.2\n",
       "14         1.1\n",
       "          ... \n",
       "999996     0.7\n",
       "999997     0.7\n",
       "999998     0.8\n",
       "999999     0.9\n",
       "1000000    0.9\n",
       "Name: 2, Length: 999991, dtype: float64"
      ]
     },
     "execution_count": 62,
     "metadata": {},
     "output_type": "execute_result"
    }
   ],
   "source": [
    "xt_dt2vt(d1['2'],10)"
   ]
  },
  {
   "cell_type": "markdown",
   "id": "ea63ef87",
   "metadata": {},
   "source": [
    "- $N=2$"
   ]
  },
  {
   "cell_type": "code",
   "execution_count": 63,
   "id": "a2660c44",
   "metadata": {},
   "outputs": [],
   "source": [
    "var_vt_4 = np.var(xt_dt2vt(d1['2'],4))\n",
    "var_vt_10 = np.var(xt_dt2vt(d1['2'],10))\n",
    "var_vt_20 = np.var(xt_dt2vt(d1['2'],20))\n",
    "var_vt_50 = np.var(xt_dt2vt(d1['2'],50))\n",
    "var_vt_100 = np.var(xt_dt2vt(d1['2'],100))\n",
    "var_vt_400 = np.var(xt_dt2vt(d1['2'],400))\n",
    "var_vt_1000 = np.var(xt_dt2vt(d1['2'],1000))"
   ]
  },
  {
   "cell_type": "code",
   "execution_count": 64,
   "id": "8da42071",
   "metadata": {},
   "outputs": [
    {
     "data": {
      "image/png": "[encoded data removed]",
      "text/plain": [
       "<Figure size 648x432 with 1 Axes>"
      ]
     },
     "metadata": {
      "needs_background": "light"
     },
     "output_type": "display_data"
    }
   ],
   "source": [
    "ts = [4,10,20,50,100,400,1000]\n",
    "var_vts = [var_vt_4,var_vt_10,var_vt_20,var_vt_50,var_vt_100,var_vt_400,var_vt_1000]\n",
    "\n",
    "plt.figure(figsize=(9,6))\n",
    "plt.plot(ts, var_vts, linestyle='None', marker='o')\n",
    "x=np.linspace(1,1000,30)\n",
    "plt.plot(x, 0.5/x)\n",
    "plt.yscale('log')\n",
    "plt.xscale('log')\n",
    "plt.xlabel(r'$\\delta$t')\n",
    "plt.ylabel('J')\n",
    "\n",
    "plt.show()"
   ]
  },
  {
   "cell_type": "markdown",
   "id": "ea63ef87",
   "metadata": {},
   "source": [
    "- $N=20$"
   ]
  },
  {
   "cell_type": "code",
   "execution_count": 65,
   "id": "a2660c44",
   "metadata": {},
   "outputs": [],
   "source": [
    "var_vt_4 =    np.var(xt_dt2vt(d1['20'],4))\n",
    "var_vt_10 =   np.var(xt_dt2vt(d1['20'],10))\n",
    "var_vt_20 =   np.var(xt_dt2vt(d1['20'],20))\n",
    "var_vt_50 =   np.var(xt_dt2vt(d1['20'],50))\n",
    "var_vt_100 =  np.var(xt_dt2vt(d1['20'],100))\n",
    "var_vt_400 =  np.var(xt_dt2vt(d1['20'],400))\n",
    "var_vt_1000 = np.var(xt_dt2vt(d1['20'],1000))"
   ]
  },
  {
   "cell_type": "code",
   "execution_count": 66,
   "id": "8da42071",
   "metadata": {},
   "outputs": [
    {
     "data": {
      "image/png": "[encoded data removed]",
      "text/plain": [
       "<Figure size 648x432 with 1 Axes>"
      ]
     },
     "metadata": {
      "needs_background": "light"
     },
     "output_type": "display_data"
    }
   ],
   "source": [
    "ts = [4,10,20,50,100,400,1000]\n",
    "var_vts = [var_vt_4,var_vt_10,var_vt_20,var_vt_50,var_vt_100,var_vt_400,var_vt_1000]\n",
    "\n",
    "plt.figure(figsize=(9,6))\n",
    "plt.plot(ts, var_vts, linestyle='None', marker='o')\n",
    "x=np.linspace(1,1000,30)\n",
    "plt.plot(x, 0.5/x)\n",
    "plt.yscale('log')\n",
    "plt.xscale('log')\n",
    "plt.xlabel(r'$\\delta$t')\n",
    "plt.ylabel('J')\n",
    "\n",
    "plt.show()"
   ]
  },
  {
   "cell_type": "markdown",
   "id": "afacd897",
   "metadata": {},
   "source": [
    "- $N=50$"
   ]
  },
  {
   "cell_type": "code",
   "execution_count": 67,
   "id": "a2660c44",
   "metadata": {},
   "outputs": [],
   "source": [
    "var_vt_4 =    np.var(xt_dt2vt(d1['50'],4))\n",
    "var_vt_10 =   np.var(xt_dt2vt(d1['50'],10))\n",
    "var_vt_20 =   np.var(xt_dt2vt(d1['50'],20))\n",
    "var_vt_50 =   np.var(xt_dt2vt(d1['50'],50))\n",
    "var_vt_100 =  np.var(xt_dt2vt(d1['50'],100))\n",
    "var_vt_400 =  np.var(xt_dt2vt(d1['50'],400))\n",
    "var_vt_1000 = np.var(xt_dt2vt(d1['50'],1000))"
   ]
  },
  {
   "cell_type": "code",
   "execution_count": 68,
   "id": "8da42071",
   "metadata": {},
   "outputs": [
    {
     "data": {
      "image/png": "[encoded data removed]",
      "text/plain": [
       "<Figure size 648x432 with 1 Axes>"
      ]
     },
     "metadata": {
      "needs_background": "light"
     },
     "output_type": "display_data"
    }
   ],
   "source": [
    "ts = [4,10,20,50,100,400,1000]\n",
    "var_vts = [var_vt_4,var_vt_10,var_vt_20,var_vt_50,var_vt_100,var_vt_400,var_vt_1000]\n",
    "\n",
    "plt.figure(figsize=(9,6))\n",
    "plt.plot(ts, var_vts, linestyle='None', marker='o')\n",
    "x=np.linspace(1,1000,30)\n",
    "plt.plot(x, 0.5/x)\n",
    "plt.yscale('log')\n",
    "plt.xscale('log')\n",
    "plt.xlabel(r'$\\delta$t')\n",
    "plt.ylabel('J')\n",
    "\n",
    "plt.show()"
   ]
  },
  {
   "cell_type": "markdown",
   "id": "afacd897",
   "metadata": {},
   "source": [
    "- $N=95$"
   ]
  },
  {
   "cell_type": "code",
   "execution_count": 69,
   "id": "a2660c44",
   "metadata": {},
   "outputs": [],
   "source": [
    "var_vt_4 =    np.var(xt_dt2vt(d1['95'],4))\n",
    "var_vt_10 =   np.var(xt_dt2vt(d1['95'],10))\n",
    "var_vt_20 =   np.var(xt_dt2vt(d1['95'],20))\n",
    "var_vt_50 =   np.var(xt_dt2vt(d1['95'],50))\n",
    "var_vt_100 =  np.var(xt_dt2vt(d1['95'],100))\n",
    "var_vt_400 =  np.var(xt_dt2vt(d1['95'],400))\n",
    "var_vt_1000 = np.var(xt_dt2vt(d1['95'],1000))"
   ]
  },
  {
   "cell_type": "code",
   "execution_count": 70,
   "id": "8da42071",
   "metadata": {},
   "outputs": [
    {
     "data": {
      "image/png": "[encoded data removed]",
      "text/plain": [
       "<Figure size 648x432 with 1 Axes>"
      ]
     },
     "metadata": {
      "needs_background": "light"
     },
     "output_type": "display_data"
    }
   ],
   "source": [
    "ts = [4,10,20,50,100,400,1000]\n",
    "var_vts = [var_vt_4,var_vt_10,var_vt_20,var_vt_50,var_vt_100,var_vt_400,var_vt_1000]\n",
    "\n",
    "plt.figure(figsize=(9,6))\n",
    "plt.plot(ts, var_vts, linestyle='None', marker='o')\n",
    "x=np.linspace(1,1000,30)\n",
    "plt.plot(x, 0.05/x)\n",
    "plt.yscale('log')\n",
    "plt.xscale('log')\n",
    "plt.xlabel(r'$\\delta$t')\n",
    "plt.ylabel('J')\n",
    "\n",
    "plt.show()"
   ]
  },
  {
   "cell_type": "markdown",
   "id": "c624d582",
   "metadata": {},
   "source": [
    "## Corr"
   ]
  },
  {
   "cell_type": "code",
   "execution_count": 71,
   "id": "52cceaf9",
   "metadata": {},
   "outputs": [],
   "source": [
    "def x01_dt2corr_v01(x0,x1,dt):\n",
    "    dx0=x0.diff(dt)[dt:]\n",
    "    dx1=x1.diff(dt)[dt:]\n",
    "    corr=np.corrcoef(dx0,dx1)\n",
    "\n",
    "    return(corr[0,1])"
   ]
  },
  {
   "cell_type": "code",
   "execution_count": 72,
   "id": "b66e97da",
   "metadata": {},
   "outputs": [],
   "source": [
    "j='2'"
   ]
  },
  {
   "cell_type": "code",
   "execution_count": 73,
   "id": "065bf0e8",
   "metadata": {},
   "outputs": [
    {
     "data": {
      "text/plain": [
       "-0.9571448345705913"
      ]
     },
     "execution_count": 73,
     "metadata": {},
     "output_type": "execute_result"
    }
   ],
   "source": [
    "x01_dt2corr_v01(d1[j],d2[j],2)"
   ]
  },
  {
   "cell_type": "markdown",
   "id": "ea63ef87",
   "metadata": {},
   "source": [
    "- $N=2$"
   ]
  },
  {
   "cell_type": "code",
   "execution_count": 74,
   "id": "92dde94b",
   "metadata": {},
   "outputs": [],
   "source": [
    "j='2'\n",
    "corr_v_1   =x01_dt2corr_v01(d1[j],d2[j],1)\n",
    "corr_v_4   =x01_dt2corr_v01(d1[j],d2[j],4)\n",
    "corr_v_10  =x01_dt2corr_v01(d1[j],d2[j],10)\n",
    "corr_v_20  =x01_dt2corr_v01(d1[j],d2[j],20)\n",
    "corr_v_50  =x01_dt2corr_v01(d1[j],d2[j],50)\n",
    "corr_v_100 =x01_dt2corr_v01(d1[j],d2[j],100)\n",
    "corr_v_400 =x01_dt2corr_v01(d1[j],d2[j],400)\n",
    "corr_v_1000=x01_dt2corr_v01(d1[j],d2[j],1000)"
   ]
  },
  {
   "cell_type": "code",
   "execution_count": 75,
   "id": "b2e2b466",
   "metadata": {},
   "outputs": [
    {
     "data": {
      "text/plain": [
       "-0.9399935234526066"
      ]
     },
     "execution_count": 75,
     "metadata": {},
     "output_type": "execute_result"
    }
   ],
   "source": [
    "corr_v_4"
   ]
  },
  {
   "cell_type": "code",
   "execution_count": 76,
   "id": "18974ac5",
   "metadata": {},
   "outputs": [
    {
     "data": {
      "image/png": "[encoded data removed]",
      "text/plain": [
       "<Figure size 432x288 with 1 Axes>"
      ]
     },
     "metadata": {
      "needs_background": "light"
     },
     "output_type": "display_data"
    }
   ],
   "source": [
    "ts=[1,4,10,20,50,100,400,1000]\n",
    "corr_vts=[corr_v_1,corr_v_4,corr_v_10,corr_v_20,corr_v_50,corr_v_100,corr_v_400,corr_v_1000]\n",
    "\n",
    "plt.plot(ts,corr_vts, linestyle='None', marker='o')\n",
    "plt.show()"
   ]
  },
  {
   "cell_type": "markdown",
   "id": "46fc8416",
   "metadata": {},
   "source": [
    "- $N=5$"
   ]
  },
  {
   "cell_type": "code",
   "execution_count": 77,
   "id": "92dde94b",
   "metadata": {},
   "outputs": [
    {
     "data": {
      "image/png": "[encoded data removed]",
      "text/plain": [
       "<Figure size 432x288 with 1 Axes>"
      ]
     },
     "metadata": {
      "needs_background": "light"
     },
     "output_type": "display_data"
    }
   ],
   "source": [
    "j='5'\n",
    "corr_v_1   =x01_dt2corr_v01(d1[j],d2[j],1)\n",
    "corr_v_4   =x01_dt2corr_v01(d1[j],d2[j],4)\n",
    "corr_v_10  =x01_dt2corr_v01(d1[j],d2[j],10)\n",
    "corr_v_20  =x01_dt2corr_v01(d1[j],d2[j],20)\n",
    "corr_v_50  =x01_dt2corr_v01(d1[j],d2[j],50)\n",
    "corr_v_100 =x01_dt2corr_v01(d1[j],d2[j],100)\n",
    "corr_v_400 =x01_dt2corr_v01(d1[j],d2[j],400)\n",
    "corr_v_1000=x01_dt2corr_v01(d1[j],d2[j],1000)\n",
    "\n",
    "ts=[1,4,10,20,50,100,400,1000]\n",
    "corr_vts=[corr_v_1,corr_v_4,corr_v_10,corr_v_20,corr_v_50,corr_v_100,corr_v_400,corr_v_1000]\n",
    "\n",
    "plt.plot(ts,corr_vts, linestyle='None', marker='o')\n",
    "plt.show()"
   ]
  },
  {
   "cell_type": "markdown",
   "id": "b204e846",
   "metadata": {},
   "source": [
    "- $N=10$"
   ]
  },
  {
   "cell_type": "code",
   "execution_count": 78,
   "id": "d509b3c5",
   "metadata": {},
   "outputs": [
    {
     "data": {
      "image/png": "[encoded data removed]",
      "text/plain": [
       "<Figure size 432x288 with 1 Axes>"
      ]
     },
     "metadata": {
      "needs_background": "light"
     },
     "output_type": "display_data"
    }
   ],
   "source": [
    "j='10'\n",
    "corr_v_1   =x01_dt2corr_v01(d1[j],d2[j],1)\n",
    "corr_v_4   =x01_dt2corr_v01(d1[j],d2[j],4)\n",
    "corr_v_10  =x01_dt2corr_v01(d1[j],d2[j],10)\n",
    "corr_v_20  =x01_dt2corr_v01(d1[j],d2[j],20)\n",
    "corr_v_50  =x01_dt2corr_v01(d1[j],d2[j],50)\n",
    "corr_v_100 =x01_dt2corr_v01(d1[j],d2[j],100)\n",
    "corr_v_400 =x01_dt2corr_v01(d1[j],d2[j],400)\n",
    "corr_v_1000=x01_dt2corr_v01(d1[j],d2[j],1000)\n",
    "\n",
    "ts=[1,4,10,20,50,100,400,1000]\n",
    "corr_vts=[corr_v_1,corr_v_4,corr_v_10,corr_v_20,corr_v_50,corr_v_100,corr_v_400,corr_v_1000]\n",
    "\n",
    "plt.plot(ts,corr_vts, linestyle='None', marker='o')\n",
    "plt.show()"
   ]
  },
  {
   "cell_type": "markdown",
   "id": "99df8d89",
   "metadata": {},
   "source": [
    "- $N=20$"
   ]
  },
  {
   "cell_type": "code",
   "execution_count": 79,
   "id": "a8e75805",
   "metadata": {},
   "outputs": [
    {
     "data": {
      "image/png": "[encoded data removed]",
      "text/plain": [
       "<Figure size 432x288 with 1 Axes>"
      ]
     },
     "metadata": {
      "needs_background": "light"
     },
     "output_type": "display_data"
    }
   ],
   "source": [
    "j='20'\n",
    "corr_v_1   =x01_dt2corr_v01(d1[j],d2[j],1)\n",
    "corr_v_4   =x01_dt2corr_v01(d1[j],d2[j],4)\n",
    "corr_v_10  =x01_dt2corr_v01(d1[j],d2[j],10)\n",
    "corr_v_20  =x01_dt2corr_v01(d1[j],d2[j],20)\n",
    "corr_v_50  =x01_dt2corr_v01(d1[j],d2[j],50)\n",
    "corr_v_100 =x01_dt2corr_v01(d1[j],d2[j],100)\n",
    "corr_v_400 =x01_dt2corr_v01(d1[j],d2[j],400)\n",
    "corr_v_1000=x01_dt2corr_v01(d1[j],d2[j],1000)\n",
    "\n",
    "ts=[1,4,10,20,50,100,400,1000]\n",
    "corr_vts=[corr_v_1,corr_v_4,corr_v_10,corr_v_20,corr_v_50,corr_v_100,corr_v_400,corr_v_1000]\n",
    "\n",
    "plt.plot(ts,corr_vts, linestyle='None', marker='o')\n",
    "plt.show()"
   ]
  },
  {
   "cell_type": "markdown",
   "id": "1e35e734",
   "metadata": {},
   "source": [
    "- $N=50$"
   ]
  },
  {
   "cell_type": "code",
   "execution_count": 80,
   "id": "9ccfd2d8",
   "metadata": {},
   "outputs": [
    {
     "data": {
      "image/png": "[encoded data removed]",
      "text/plain": [
       "<Figure size 432x288 with 1 Axes>"
      ]
     },
     "metadata": {
      "needs_background": "light"
     },
     "output_type": "display_data"
    }
   ],
   "source": [
    "j='50'\n",
    "corr_v_1   =x01_dt2corr_v01(d1[j],d2[j],1)\n",
    "corr_v_4   =x01_dt2corr_v01(d1[j],d2[j],4)\n",
    "corr_v_10  =x01_dt2corr_v01(d1[j],d2[j],10)\n",
    "corr_v_20  =x01_dt2corr_v01(d1[j],d2[j],20)\n",
    "corr_v_50  =x01_dt2corr_v01(d1[j],d2[j],50)\n",
    "corr_v_100 =x01_dt2corr_v01(d1[j],d2[j],100)\n",
    "corr_v_400 =x01_dt2corr_v01(d1[j],d2[j],400)\n",
    "corr_v_1000=x01_dt2corr_v01(d1[j],d2[j],1000)\n",
    "\n",
    "ts=[1,4,10,20,50,100,400,1000]\n",
    "corr_vts=[corr_v_1,corr_v_4,corr_v_10,corr_v_20,corr_v_50,corr_v_100,corr_v_400,corr_v_1000]\n",
    "\n",
    "plt.plot(ts,corr_vts, linestyle='None', marker='o')\n",
    "plt.show()"
   ]
  },
  {
   "cell_type": "markdown",
   "id": "41a6394b",
   "metadata": {},
   "source": [
    "- $N=95$"
   ]
  },
  {
   "cell_type": "code",
   "execution_count": 81,
   "id": "222cc4fc",
   "metadata": {},
   "outputs": [
    {
     "data": {
      "image/png": "[encoded data removed]",
      "text/plain": [
       "<Figure size 432x288 with 1 Axes>"
      ]
     },
     "metadata": {
      "needs_background": "light"
     },
     "output_type": "display_data"
    }
   ],
   "source": [
    "j='95'\n",
    "corr_v_1   =x01_dt2corr_v01(d1[j],d2[j],1)\n",
    "corr_v_4   =x01_dt2corr_v01(d1[j],d2[j],4)\n",
    "corr_v_10  =x01_dt2corr_v01(d1[j],d2[j],10)\n",
    "corr_v_20  =x01_dt2corr_v01(d1[j],d2[j],20)\n",
    "corr_v_50  =x01_dt2corr_v01(d1[j],d2[j],50)\n",
    "corr_v_100 =x01_dt2corr_v01(d1[j],d2[j],100)\n",
    "corr_v_400 =x01_dt2corr_v01(d1[j],d2[j],400)\n",
    "corr_v_1000=x01_dt2corr_v01(d1[j],d2[j],1000)\n",
    "\n",
    "ts=[1,4,10,20,50,100,400,1000]\n",
    "corr_vts=[corr_v_1,corr_v_4,corr_v_10,corr_v_20,corr_v_50,corr_v_100,corr_v_400,corr_v_1000]\n",
    "\n",
    "plt.plot(ts,corr_vts, linestyle='None', marker='o')\n",
    "plt.show()"
   ]
  },
  {
   "cell_type": "code",
   "execution_count": 82,
   "id": "0a6cb552",
   "metadata": {},
   "outputs": [],
   "source": [
    "rho = rho_vs_J_v['rho']"
   ]
  },
  {
   "cell_type": "code",
   "execution_count": 83,
   "id": "e608a0bb",
   "metadata": {},
   "outputs": [],
   "source": [
    "def diffusion(xt, dt):\n",
    "    dx = np.var(xt.diff(dt))\n",
    "    diff = dx/dt\n",
    "\n",
    "    return diff"
   ]
  },
  {
   "cell_type": "code",
   "execution_count": 88,
   "id": "76552a99",
   "metadata": {},
   "outputs": [
    {
     "data": {
      "image/png": "[encoded data removed]",
      "text/plain": [
       "<Figure size 648x432 with 1 Axes>"
      ]
     },
     "metadata": {
      "needs_background": "light"
     },
     "output_type": "display_data"
    }
   ],
   "source": [
    "delta_y = []\n",
    "for i in range(1,21):\n",
    "    d = diffusion(d1.iloc[:,i],1000)\n",
    "    delta_y.append(d)\n",
    "\n",
    "delta_x = []\n",
    "for i in range(1,21):\n",
    "    d = diffusion(d2.iloc[:,i],1000)\n",
    "    delta_x.append(d)\n",
    "\n",
    "\n",
    "b = 0.05\n",
    "L = 100\n",
    "\n",
    "plt.figure(figsize=(9,6))\n",
    "plt.plot(rho, delta_x, linestyle='None', marker='o', label='car0')\n",
    "plt.plot(rho, delta_y, linestyle='None', marker='o', label='bus0')\n",
    "\n",
    "plt.plot(rho, np.sqrt(L*math.pi*(rho-np.square(rho)))/4, label=r'$\\rho$ < $\\beta$')\n",
    "plt.plot(rho, b*(1-b)/(rho-b), label=r'$\\rho$ > $\\beta$')\n",
    "plt.plot(rho, 2*(1-rho)/(L*rho))\n",
    "plt.plot(rho, np.sqrt(math.pi*np.power(1-rho,3)/(L*rho))/2, label=r'$\\rho$ < $\\beta$')\n",
    "plt.plot(rho, np.sqrt(math.pi)*np.power(1-rho,3/2)/2*np.sqrt(L*rho), label=r'$\\rho$ < $\\beta$')\n",
    "# plt.plot(rho, (np.sqrt(L*(rho-np.square(rho))))/2)\n",
    "# plt.yscale('log')\n",
    "# plt.xscale('log')\n",
    "plt.xlim(0,1)\n",
    "plt.ylim(0,2.5)\n",
    "plt.xlabel(r'$\\rho$')\n",
    "plt.ylabel(r'$\\Delta$x/$\\Delta$t')\n",
    "plt.title(r'$\\beta$=0.5')\n",
    "plt.legend()\n",
    "# plt.savefig('beta0.5.png', dpi=600)\n",
    "\n",
    "plt.show()"
   ]
  },
  {
   "cell_type": "code",
   "execution_count": 85,
   "id": "da95119b",
   "metadata": {},
   "outputs": [
    {
     "data": {
      "text/plain": [
       "[0.3960526859759189,\n",
       " 0.44890780099523564,\n",
       " 0.29095513837497267,\n",
       " 0.2200238753684005,\n",
       " 0.16879115391386665,\n",
       " 0.1314554011526465,\n",
       " 0.11742407039465017,\n",
       " 0.09594081963638225,\n",
       " 0.07856773374393848,\n",
       " 0.06485626124655272,\n",
       " 0.05493009288778339,\n",
       " 0.045296622355384356,\n",
       " 0.036842426712921844,\n",
       " 0.029060271024536965,\n",
       " 0.02294055702287366,\n",
       " 0.017181671855390216,\n",
       " 0.01262671205760925,\n",
       " 0.008545742407433565,\n",
       " 0.004566276275516013,\n",
       " 0.001823005497138405]"
      ]
     },
     "execution_count": 85,
     "metadata": {},
     "output_type": "execute_result"
    }
   ],
   "source": [
    "delta_x"
   ]
  },
  {
   "cell_type": "code",
   "execution_count": null,
   "id": "acc6d136",
   "metadata": {},
   "outputs": [],
   "source": []
  }
 ],
 "metadata": {
  "kernelspec": {
   "display_name": "Python 3.9.12 ('base')",
   "language": "python",
   "name": "python3"
  },
  "language_info": {
   "codemirror_mode": {
    "name": "ipython",
    "version": 3
   },
   "file_extension": ".py",
   "mimetype": "text/x-python",
   "name": "python",
   "nbconvert_exporter": "python",
   "pygments_lexer": "ipython3",
   "version": "3.9.12"
  },
  "vscode": {
   "interpreter": {
    "hash": "0c0fe35b3f1f4138f75f0bd82716d5b6b290d1f383a9c76ce16507e1bc49726e"
   }
  }
 },
 "nbformat": 4,
 "nbformat_minor": 5
}
